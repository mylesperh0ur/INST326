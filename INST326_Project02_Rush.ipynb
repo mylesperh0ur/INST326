{
 "cells": [
  {
   "cell_type": "markdown",
   "id": "bc00dbc1",
   "metadata": {},
   "source": [
    "### Project 02: Create a GUI Notebook Program"
   ]
  },
  {
   "cell_type": "markdown",
   "id": "b3f87ffb",
   "metadata": {},
   "source": [
    "Myles Rush 3/24/24"
   ]
  },
  {
   "cell_type": "markdown",
   "id": "62110c98",
   "metadata": {},
   "source": [
    "Project 2 will adapt the procedural code we have been working on in INST326_SimpleGUI_Note_Form_IO.ipynb to create an OOP version of the program using three classes.\n",
    "\n",
    "    A Notebook or MainWindow class\n",
    "    A Form or TopWindow class\n",
    "    A Note class\n",
    "\n",
    "The MainWindow class is a subclass of Tkinter’s tk.Tk class and thus inherits its attributes and methods, while allowing us to customize the new window objects to our needs. These new window objects will represent “notebooks” or collections of notes, and allow us to work with those notes. (I have named it MainWindow because this class definition could be used to create any kind of main window in Tkinter. We are using it to represent notebooks in this application, but you might use it for other purposes in onther applications.)\n"
   ]
  },
  {
   "cell_type": "markdown",
   "id": "67692272",
   "metadata": {},
   "source": [
    "The TopWindow class creates a new top window in Tkinter, which is essentially a form for entering the title, text, links, and tags for our note. When we submit the note, this “form” object has a method that creates the note’s metadata and a new Note object. That note object is appended to the list of all notes, which is an attribute of the notebook (MainWindow) class.\n",
    "The Note class creates note objects that contain the  title, text, links, tags, and metadata for each note.\n",
    "\n",
    "For Project 02 you will:  \n",
    "\n",
    "    1. Create one notebook or MainWindow object  \n",
    "    2. Create several (at least 3) ‘real’ notes for your final submission. By ‘real’ I mean actual notes about python that are useful to you. Print them in the cell at the bottom of the notebook.\n",
    "    3. Save those notes to a single .txt, .csv, or .json file (your choice of format).  \n",
    "    4. Retrieve those notes and \n",
    "    5. Display representations of them as either labels or buttons in the  main window (remember how we displayed cards in project 01). These representations are not whole notes. Rather, they are object representations of the notes.  \n",
    "    6. When they are clicked the whole note pops up in a new window - either the form window or a ‘read-only’ version of the form window.\n",
    "\n"
   ]
  },
  {
   "cell_type": "markdown",
   "id": "cd7630c0",
   "metadata": {},
   "source": [
    "#### Complete your code in the cell below"
   ]
  },
  {
   "cell_type": "markdown",
   "id": "50f0a965",
   "metadata": {},
   "source": [
    "The code cell below contains the imports you will need; the top level structure for the three classes to get you started; and the execution code at the bottom. "
   ]
  },
  {
   "cell_type": "code",
   "execution_count": 2,
   "id": "57954c28",
   "metadata": {},
   "outputs": [
    {
     "name": "stderr",
     "output_type": "stream",
     "text": [
      "Exception in Tkinter callback\n",
      "Traceback (most recent call last):\n",
      "  File \"/Library/Frameworks/Python.framework/Versions/3.11/lib/python3.11/tkinter/__init__.py\", line 1948, in __call__\n",
      "    return self.func(*args)\n",
      "           ^^^^^^^^^^^^^^^^\n",
      "  File \"/var/folders/bl/9y6ntgdj2xn_xyjjvpwtvyjh0000gn/T/ipykernel_6942/3605399180.py\", line 78, in submit\n",
      "    \"timezone\": datetime.datetime.now().astimezone().tzinfo.name}\n",
      "                ^^^^^^^^^^^^^^^^^^^^^^^^^^^^^^^^^^^^^^^^^^^^^^^^\n",
      "AttributeError: 'datetime.timezone' object has no attribute 'name'\n",
      "Exception in Tkinter callback\n",
      "Traceback (most recent call last):\n",
      "  File \"/Library/Frameworks/Python.framework/Versions/3.11/lib/python3.11/tkinter/__init__.py\", line 1948, in __call__\n",
      "    return self.func(*args)\n",
      "           ^^^^^^^^^^^^^^^^\n",
      "  File \"/var/folders/bl/9y6ntgdj2xn_xyjjvpwtvyjh0000gn/T/ipykernel_6942/3605399180.py\", line 78, in submit\n",
      "    \"timezone\": datetime.datetime.now().astimezone().tzinfo.name}\n",
      "                ^^^^^^^^^^^^^^^^^^^^^^^^^^^^^^^^^^^^^^^^^^^^^^^^\n",
      "AttributeError: 'datetime.timezone' object has no attribute 'name'\n",
      "Exception in Tkinter callback\n",
      "Traceback (most recent call last):\n",
      "  File \"/Library/Frameworks/Python.framework/Versions/3.11/lib/python3.11/tkinter/__init__.py\", line 1948, in __call__\n",
      "    return self.func(*args)\n",
      "           ^^^^^^^^^^^^^^^^\n",
      "  File \"/var/folders/bl/9y6ntgdj2xn_xyjjvpwtvyjh0000gn/T/ipykernel_6942/3605399180.py\", line 78, in submit\n",
      "    \"timezone\": datetime.datetime.now().astimezone().tzinfo.name}\n",
      "                ^^^^^^^^^^^^^^^^^^^^^^^^^^^^^^^^^^^^^^^^^^^^^^^^\n",
      "AttributeError: 'datetime.timezone' object has no attribute 'name'\n",
      "Exception in Tkinter callback\n",
      "Traceback (most recent call last):\n",
      "  File \"/Library/Frameworks/Python.framework/Versions/3.11/lib/python3.11/tkinter/__init__.py\", line 1948, in __call__\n",
      "    return self.func(*args)\n",
      "           ^^^^^^^^^^^^^^^^\n",
      "  File \"/var/folders/bl/9y6ntgdj2xn_xyjjvpwtvyjh0000gn/T/ipykernel_6942/3605399180.py\", line 78, in submit\n",
      "    \"timezone\": datetime.datetime.now().astimezone().tzinfo.name}\n",
      "                ^^^^^^^^^^^^^^^^^^^^^^^^^^^^^^^^^^^^^^^^^^^^^^^^\n",
      "AttributeError: 'datetime.timezone' object has no attribute 'name'\n"
     ]
    }
   ],
   "source": [
    "# imports\n",
    "import tkinter as tk\n",
    "from tkinter import ttk\n",
    "import datetime # one module for working with dates and times\n",
    "import json\n",
    "\n",
    "# The MainWindow class creates a custom GUI window based on the tkinter window (tk.Tk)\n",
    "class MainWindow(tk.Tk):\n",
    "    def __init__(self):\n",
    "        super().__init__()\n",
    "        self.geometry(\"600x400\")\n",
    "        self.title('Notebook')\n",
    "        self.notebook = []\n",
    "        self.notes = []\n",
    "\n",
    "        # Add buttons for new, open, and save\n",
    "        new_button = ttk.Button(self, text=\"New\", command=self.new_note)\n",
    "        new_button.pack(pady=5) \n",
    "        open_button = ttk.Button(self, text=\"Open\", command=self.open_notebook)\n",
    "        open_button.pack(pady=5)\n",
    "        save_button = ttk.Button(self, text=\"Save\", command=self.save_notebook)\n",
    "        save_button.pack(pady=5)\n",
    "\n",
    "    def new_note(self):\n",
    "        note_window = NoteForm(self, self.notebook, self.notes)\n",
    "\n",
    "    def open_notebook(self):\n",
    "        with open(\"notes.json\", \"r\") as file:\n",
    "            self.notes = json.load(file)\n",
    "        self.display_notes()\n",
    "\n",
    "    def save_notebook(self):\n",
    "        with open(\"notes.json\", \"w\") as file:\n",
    "            json.dump(self.notes, file, indent=4)\n",
    "\n",
    "    def display_notes(self):\n",
    "        for note in self.notes:\n",
    "            note_button = ttk.Button(self, text=note[\"title\"], command=lambda n=note: self.display_full_note(n))\n",
    "            note_button.pack(pady=5)\n",
    "\n",
    "    def display_full_note(self, note):\n",
    "        full_note_window = FullNoteWindow(self, note)\n",
    "\n",
    "# The NoteForm() class creates a Toplevel window that is a note form\n",
    "class NoteForm(tk.Toplevel):\n",
    "    def __init__(self, master, notebook, notes):\n",
    "        super().__init__(master)\n",
    "        self.geometry(\"400x300\")\n",
    "        self.title('Note Form')\n",
    "        self.notebook = notebook\n",
    "        self.notes = notes\n",
    "        self.title_label = ttk.Label(self, text=\"Title:\")\n",
    "        self.title_label.pack(pady=5)\n",
    "        self.title_entry = ttk.Entry(self)\n",
    "        self.title_entry.pack(pady=5)\n",
    "        self.text_label = ttk.Label(self, text=\"Text:\")\n",
    "        self.text_label.pack(pady=5)\n",
    "        self.text_entry = tk.Text(self, width=30, height=10)\n",
    "        self.text_entry.pack(pady=5)\n",
    "        self.link_label = ttk.Label(self, text=\"Link:\")\n",
    "        self.link_label.pack(pady=5)\n",
    "        self.link_entry = ttk.Entry(self)\n",
    "        self.link_entry.pack(pady=5)\n",
    "        self.tag_label = ttk.Label(self, text=\"Tags:\")\n",
    "        self.tag_label.pack(pady=5)\n",
    "        self.tag_entry = ttk.Entry(self)\n",
    "        self.tag_entry.pack(pady=5)\n",
    "        submit_button = ttk.Button(self, text=\"Submit\", command=self.submit)\n",
    "        submit_button.pack(pady=5)\n",
    "\n",
    "    def submit(self):\n",
    "        title = self.title_entry.get()\n",
    "        text = self.text_entry.get(\"1.0\", tk.END)\n",
    "        link = self.link_entry.get()\n",
    "        tags = self.tag_entry.get()\n",
    "        metadata = {\n",
    "            \"timestamp\": datetime.datetime.now().isoformat(),\n",
    "            \"timezone\": datetime.datetime.now().astimezone().tzinfo.name}\n",
    "        \n",
    "        note_dict = {\n",
    "            \"title\": title,\n",
    "            \"text\": text,\n",
    "            \"link\": link,\n",
    "            \"tags\": tags,\n",
    "            \"metadata\": metadata}\n",
    "        \n",
    "        self.notes.append(note_dict)\n",
    "        self.master.display_notes()\n",
    "        self.destroy()\n",
    "\n",
    "# Class for displaying full note\n",
    "class FullNoteWindow(tk.Toplevel):\n",
    "    def __init__(self, master, note):\n",
    "        super().__init__(master)\n",
    "        self.geometry(\"400x300\")\n",
    "        self.title(note[\"title\"])\n",
    "        full_text = tk.Text(self, width=30, height=10)\n",
    "        full_text.insert(tk.END, note[\"text\"])\n",
    "        full_text.pack(pady=5)\n",
    "        link_label = ttk.Label(self, text=\"Link: \" + note[\"link\"])\n",
    "        link_label.pack(pady=5)\n",
    "        tag_label = ttk.Label(self, text=\"Tags: \" + note[\"tags\"])\n",
    "        tag_label.pack(pady=5)\n",
    "\n",
    "# main execution\n",
    "if __name__ == '__main__':\n",
    "    \n",
    "    main_window = MainWindow()\n",
    "    \n",
    "    main_window.mainloop()"
   ]
  },
  {
   "cell_type": "markdown",
   "id": "c50d5149",
   "metadata": {},
   "source": [
    "#### Print your three notes below"
   ]
  },
  {
   "cell_type": "code",
   "execution_count": 3,
   "id": "dd1811bf",
   "metadata": {},
   "outputs": [
    {
     "ename": "SyntaxError",
     "evalue": "incomplete input (2990486204.py, line 2)",
     "output_type": "error",
     "traceback": [
      "\u001b[0;36m  Cell \u001b[0;32mIn[3], line 2\u001b[0;36m\u001b[0m\n\u001b[0;31m    print(\u001b[0m\n\u001b[0m          ^\u001b[0m\n\u001b[0;31mSyntaxError\u001b[0m\u001b[0;31m:\u001b[0m incomplete input\n"
     ]
    }
   ],
   "source": [
    "# print your notes here\n",
    "print(\"Lists are mutable and ordered, dictionaries are mutable and unordered, and tuples are not mutable\")\n",
    "print(\"Import all plugins at the beginning of your code to avoid messes\")\n",
    "print(\"Utilize notes in python code to keep track of your progress and what each chunk of code's purpose is\")"
   ]
  }
 ],
 "metadata": {
  "kernelspec": {
   "display_name": "Python 3 (ipykernel)",
   "language": "python",
   "name": "python3"
  },
  "language_info": {
   "codemirror_mode": {
    "name": "ipython",
    "version": 3
   },
   "file_extension": ".py",
   "mimetype": "text/x-python",
   "name": "python",
   "nbconvert_exporter": "python",
   "pygments_lexer": "ipython3",
   "version": "3.11.5"
  }
 },
 "nbformat": 4,
 "nbformat_minor": 5
}
